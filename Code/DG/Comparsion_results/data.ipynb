{
 "cells": [
  {
   "cell_type": "code",
   "id": "initial_id",
   "metadata": {
    "collapsed": true,
    "ExecuteTime": {
     "end_time": "2025-02-03T13:32:01.238297Z",
     "start_time": "2025-02-03T13:32:01.223926Z"
    }
   },
   "source": [
    "import pandas as pd\n",
    "from glob import glob"
   ],
   "outputs": [],
   "execution_count": 2
  },
  {
   "metadata": {
    "ExecuteTime": {
     "end_time": "2025-02-03T13:32:36.708335Z",
     "start_time": "2025-02-03T13:32:36.621323Z"
    }
   },
   "cell_type": "code",
   "source": [
    "# Load all csv data\n",
    "files = glob('*.csv')\n",
    "for file in files:\n",
    "    data = pd.read_csv(file)\n",
    "    print(file)\n",
    "    print(\"median: \", data.median())\n",
    "    print(\"upper  quartile: \", data.quantile(0.75))\n",
    "    print(\"lower  quartile: \", data.quantile(0.25))\n",
    "    print(\"upper whisker: \", data.quantile(0.75) + 1.5*(data.quantile(0.75) - data.quantile(0.25)))\n",
    "    print(\"lower whisker: \", data.quantile(0.25) - 1.5*(data.quantile(0.75) - data.quantile(0.25)))\n",
    "    print('//////////////////////')\n"
   ],
   "id": "1eba5e1fa28fc9cd",
   "outputs": [
    {
     "name": "stdout",
     "output_type": "stream",
     "text": [
      "cumulation_rewards_array_n.csv\n",
      "median:  cumulation_rewards_array_n   -10.0\n",
      "dtype: float64\n",
      "upper  quartile:  cumulation_rewards_array_n   -10.0\n",
      "Name: 0.75, dtype: float64\n",
      "lower  quartile:  cumulation_rewards_array_n   -10.0\n",
      "Name: 0.25, dtype: float64\n",
      "upper whisker:  cumulation_rewards_array_n   -10.0\n",
      "dtype: float64\n",
      "lower whisker:  cumulation_rewards_array_n   -10.0\n",
      "dtype: float64\n",
      "//////////////////////\n",
      "cumulation_rewards_array_i.csv\n",
      "median:  cumulation_rewards_array_i   -9.005476\n",
      "dtype: float64\n",
      "upper  quartile:  cumulation_rewards_array_i   -9.003256\n",
      "Name: 0.75, dtype: float64\n",
      "lower  quartile:  cumulation_rewards_array_i   -9.009117\n",
      "Name: 0.25, dtype: float64\n",
      "upper whisker:  cumulation_rewards_array_i   -8.994465\n",
      "dtype: float64\n",
      "lower whisker:  cumulation_rewards_array_i   -9.017909\n",
      "dtype: float64\n",
      "//////////////////////\n",
      "cumulation_rewards_array_d.csv\n",
      "median:  cumulation_rewards_array_d    688.477151\n",
      "dtype: float64\n",
      "upper  quartile:  cumulation_rewards_array_d    689.970147\n",
      "Name: 0.75, dtype: float64\n",
      "lower  quartile:  cumulation_rewards_array_d    299.477137\n",
      "Name: 0.25, dtype: float64\n",
      "upper whisker:  cumulation_rewards_array_d    1275.709663\n",
      "dtype: float64\n",
      "lower whisker:  cumulation_rewards_array_d   -286.262379\n",
      "dtype: float64\n",
      "//////////////////////\n",
      "cumulation_rewards_array_p.csv\n",
      "median:  cumulation_rewards_array_p    689.879372\n",
      "dtype: float64\n",
      "upper  quartile:  cumulation_rewards_array_p    690.021882\n",
      "Name: 0.75, dtype: float64\n",
      "lower  quartile:  cumulation_rewards_array_p    299.609773\n",
      "Name: 0.25, dtype: float64\n",
      "upper whisker:  cumulation_rewards_array_p    1275.640044\n",
      "dtype: float64\n",
      "lower whisker:  cumulation_rewards_array_p   -286.00839\n",
      "dtype: float64\n",
      "//////////////////////\n",
      "cumulation_rewards_array_n_.csv\n",
      "median:  cumulation_rewards_array_n_   -9.021995\n",
      "dtype: float64\n",
      "upper  quartile:  cumulation_rewards_array_n_   -9.016214\n",
      "Name: 0.75, dtype: float64\n",
      "lower  quartile:  cumulation_rewards_array_n_   -10.0\n",
      "Name: 0.25, dtype: float64\n",
      "upper whisker:  cumulation_rewards_array_n_   -7.540534\n",
      "dtype: float64\n",
      "lower whisker:  cumulation_rewards_array_n_   -11.475679\n",
      "dtype: float64\n",
      "//////////////////////\n",
      "cumulation_rewards_array_d_.csv\n",
      "median:  cumulation_rewards_array_d_    684.961164\n",
      "dtype: float64\n",
      "upper  quartile:  cumulation_rewards_array_d_    686.885704\n",
      "Name: 0.75, dtype: float64\n",
      "lower  quartile:  cumulation_rewards_array_d_    683.236397\n",
      "Name: 0.25, dtype: float64\n",
      "upper whisker:  cumulation_rewards_array_d_    692.359664\n",
      "dtype: float64\n",
      "lower whisker:  cumulation_rewards_array_d_    677.762436\n",
      "dtype: float64\n",
      "//////////////////////\n",
      "cumulation_rewards_array_p_.csv\n",
      "median:  cumulation_rewards_array_p_    686.437301\n",
      "dtype: float64\n",
      "upper  quartile:  cumulation_rewards_array_p_    686.945523\n",
      "Name: 0.75, dtype: float64\n",
      "lower  quartile:  cumulation_rewards_array_p_    684.773397\n",
      "Name: 0.25, dtype: float64\n",
      "upper whisker:  cumulation_rewards_array_p_    690.203711\n",
      "dtype: float64\n",
      "lower whisker:  cumulation_rewards_array_p_    681.515208\n",
      "dtype: float64\n",
      "//////////////////////\n",
      "cumulation_rewards_array_i_.csv\n",
      "median:  cumulation_rewards_array_i_   -7.019145\n",
      "dtype: float64\n",
      "upper  quartile:  cumulation_rewards_array_i_   -6.035793\n",
      "Name: 0.75, dtype: float64\n",
      "lower  quartile:  cumulation_rewards_array_i_   -8.021733\n",
      "Name: 0.25, dtype: float64\n",
      "upper whisker:  cumulation_rewards_array_i_   -3.056882\n",
      "dtype: float64\n",
      "lower whisker:  cumulation_rewards_array_i_   -11.000644\n",
      "dtype: float64\n",
      "//////////////////////\n"
     ]
    }
   ],
   "execution_count": 4
  }
 ],
 "metadata": {
  "kernelspec": {
   "display_name": "Python 3",
   "language": "python",
   "name": "python3"
  },
  "language_info": {
   "codemirror_mode": {
    "name": "ipython",
    "version": 2
   },
   "file_extension": ".py",
   "mimetype": "text/x-python",
   "name": "python",
   "nbconvert_exporter": "python",
   "pygments_lexer": "ipython2",
   "version": "2.7.6"
  }
 },
 "nbformat": 4,
 "nbformat_minor": 5
}
